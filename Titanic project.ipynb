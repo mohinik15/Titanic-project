{
 "cells": [
  {
   "cell_type": "markdown",
   "id": "72802a9a",
   "metadata": {},
   "source": [
    "# Titanic Project"
   ]
  },
  {
   "cell_type": "raw",
   "id": "8b202320",
   "metadata": {},
   "source": [
    "The Titanic Problem is based on the sinking of the ‘Unsinkable’ ship Titanic in early 1912. It gives you information about multiple people like their ages, sexes, sibling counts, embarkment points, and whether or not they survived the disaster. Based on these features, you have to predict if an arbitrary passenger on Titanic would survive the sinking or not."
   ]
  },
  {
   "cell_type": "code",
   "execution_count": null,
   "id": "51d996d5",
   "metadata": {},
   "outputs": [],
   "source": [
    "import warnings\n",
    "warnings.simplefilter(\"ignore\")\n",
    "import joblib\n",
    "\n",
    "import pandas as pd\n",
    "import numpy as np\n",
    "import seaborn as sns\n",
    "import matplotlib.pyplot as plt\n",
    "%matplotlib inline\n",
    "\n",
    "from sklearn.preprocessing import StandardScaler\n",
    "from sklearn.model_selection import train_test_split\n",
    "from sklearn.linear_model import LogisticRegression\n",
    "from sklearn.svm import SVC\n",
    "from sklearn.tree import DecisionTreeClassifier\n",
    "from sklearn.ensemble import RandomForestClassifier\n",
    "from sklearn.ensemble import ExtraTreesClassifier\n",
    "from sklearn.neighbors import KNeighborsClassifier\n",
    "\n",
    "from sklearn import metrics\n",
    "from sklearn.metrics import classification_report\n",
    "from sklearn.metrics import accuracy_score\n",
    "from sklearn.model_selection import cross_val_score\n",
    "from sklearn.model_selection import GridSearchCV"
   ]
  },
  {
   "cell_type": "code",
   "execution_count": null,
   "id": "dfadcf92",
   "metadata": {},
   "outputs": [],
   "source": [
    "df = pd.read_csv(\"https://raw.githubusercontent.com/dsrscientist/dataset1/master/titanic_train.csv\")"
   ]
  },
  {
   "cell_type": "code",
   "execution_count": null,
   "id": "a7c0d14e",
   "metadata": {},
   "outputs": [],
   "source": [
    "df"
   ]
  },
  {
   "cell_type": "markdown",
   "id": "8d5163ed",
   "metadata": {},
   "source": [
    "# Exploratory Data Analysis (EDA)"
   ]
  },
  {
   "cell_type": "code",
   "execution_count": null,
   "id": "df41b6d1",
   "metadata": {},
   "outputs": [],
   "source": [
    "df.shape"
   ]
  },
  {
   "cell_type": "code",
   "execution_count": null,
   "id": "19492392",
   "metadata": {},
   "outputs": [],
   "source": [
    "df.columns"
   ]
  },
  {
   "cell_type": "code",
   "execution_count": null,
   "id": "c79ee417",
   "metadata": {},
   "outputs": [],
   "source": [
    "df = df.drop([\"PassengerId\", \"Name\"], axis=1)"
   ]
  },
  {
   "cell_type": "code",
   "execution_count": null,
   "id": "af88dd40",
   "metadata": {},
   "outputs": [],
   "source": [
    "df.isnull().sum()"
   ]
  },
  {
   "cell_type": "code",
   "execution_count": null,
   "id": "b1fcfc35",
   "metadata": {},
   "outputs": [],
   "source": [
    "df = df.drop(\"Cabin\", axis=1)"
   ]
  },
  {
   "cell_type": "code",
   "execution_count": null,
   "id": "95854cab",
   "metadata": {},
   "outputs": [],
   "source": [
    "df.info()"
   ]
  },
  {
   "cell_type": "code",
   "execution_count": null,
   "id": "deda6ca2",
   "metadata": {},
   "outputs": [],
   "source": [
    "df.skew()"
   ]
  },
  {
   "cell_type": "markdown",
   "id": "0328f32e",
   "metadata": {},
   "source": [
    "# Visualization"
   ]
  },
  {
   "cell_type": "code",
   "execution_count": null,
   "id": "0a8002cf",
   "metadata": {},
   "outputs": [],
   "source": [
    "plt.figure(figsize=(10,7))\n",
    "sns.countplot(x ='Survived', data = df, palette=\"rainbow\")\n",
    "plt.xlabel('Count of people who were deceased and who survived')\n",
    "plt.ylabel('Total number of people aboard Titanic')\n",
    "plt.show()"
   ]
  },
  {
   "cell_type": "code",
   "execution_count": null,
   "id": "f37017ce",
   "metadata": {},
   "outputs": [],
   "source": [
    "plt.figure(figsize=(10,7))\n",
    "sns.countplot(x ='Survived', data = df, hue='Sex' , palette=\"magma\")\n",
    "plt.xlabel('Count of people who were deceased and who survived')\n",
    "plt.ylabel('Total number of people aboard Titanic')\n",
    "plt.show()"
   ]
  },
  {
   "cell_type": "code",
   "execution_count": null,
   "id": "89bd8c42",
   "metadata": {},
   "outputs": [],
   "source": [
    "plt.figure(figsize=(10,7))\n",
    "sns.countplot(x ='Survived', data = df, hue='Pclass', palette=\"cubehelix\")\n",
    "plt.xlabel('Count of people who were deceased and who survived')\n",
    "plt.ylabel('Total number of people aboard Titanic')\n",
    "plt.show()"
   ]
  },
  {
   "cell_type": "code",
   "execution_count": null,
   "id": "52d42347",
   "metadata": {},
   "outputs": [],
   "source": [
    "plt.figure(figsize=(10,7))\n",
    "sns.countplot(x ='Survived', data = df, hue='Embarked', palette=\"turbo\")\n",
    "plt.xlabel('Count of people who were deceased and who survived')\n",
    "plt.ylabel('Total number of people aboard Titanic')\n",
    "plt.show()"
   ]
  },
  {
   "cell_type": "code",
   "execution_count": null,
   "id": "22a2135d",
   "metadata": {},
   "outputs": [],
   "source": [
    "sns.pairplot(df)\n",
    "plt.show()"
   ]
  },
  {
   "cell_type": "code",
   "execution_count": null,
   "id": "4484476b",
   "metadata": {},
   "outputs": [],
   "source": [
    "df.head(10)"
   ]
  },
  {
   "cell_type": "code",
   "execution_count": null,
   "id": "eadfc447",
   "metadata": {},
   "outputs": [],
   "source": [
    "df = df.drop(\"Ticket\", axis=1)"
   ]
  },
  {
   "cell_type": "code",
   "execution_count": null,
   "id": "4c6165cb",
   "metadata": {},
   "outputs": [],
   "source": [
    "plt.figure(figsize=(10,7))\n",
    "sns.violinplot(x=\"Sex\", y=\"Pclass\", hue=\"Survived\", data=df, palette=\"Set2\", split=True, scale=\"count\", inner=\"quartile\")\n",
    "plt.show()"
   ]
  },
  {
   "cell_type": "code",
   "execution_count": null,
   "id": "a7364291",
   "metadata": {},
   "outputs": [],
   "source": [
    "plt.figure(figsize=(10,7))\n",
    "sns.violinplot(x=\"Sex\", y=\"Age\", hue=\"Survived\", data=df, palette=\"Set3\", split=True, scale=\"count\", inner=\"quartile\")\n",
    "plt.show()"
   ]
  },
  {
   "cell_type": "code",
   "execution_count": null,
   "id": "d545ccd5",
   "metadata": {},
   "outputs": [],
   "source": [
    "plt.figure(figsize=(10,7))\n",
    "sns.violinplot(x=\"Sex\", y=\"Fare\", hue=\"Survived\", data=df, palette=\"Set1\", split=True, scale=\"count\", inner=\"quartile\")\n",
    "plt.show()"
   ]
  },
  {
   "cell_type": "markdown",
   "id": "92f13a26",
   "metadata": {},
   "source": [
    "# Filling the missing values"
   ]
  },
  {
   "cell_type": "code",
   "execution_count": null,
   "id": "b3e4ed45",
   "metadata": {},
   "outputs": [],
   "source": [
    "df.isnull().sum()"
   ]
  },
  {
   "cell_type": "code",
   "execution_count": null,
   "id": "a820b3b8",
   "metadata": {},
   "outputs": [],
   "source": [
    "plt.figure(figsize=(15,10))\n",
    "sns.boxplot(x='Pclass', y='Age', data=df, palette=\"Accent\")"
   ]
  },
  {
   "cell_type": "code",
   "execution_count": null,
   "id": "e8763ced",
   "metadata": {},
   "outputs": [],
   "source": [
    "def fill_age(cols):\n",
    "    Age = cols[0]\n",
    "    Pclass = cols[1]\n",
    "    \n",
    "    if pd.isnull(Age):\n",
    "        if Pclass == 1:\n",
    "            return 37\n",
    "        elif Pclass == 2:\n",
    "            return 29\n",
    "        else:\n",
    "            return 24\n",
    "    else:\n",
    "        return Age"
   ]
  },
  {
   "cell_type": "code",
   "execution_count": null,
   "id": "a40c4d78",
   "metadata": {},
   "outputs": [],
   "source": [
    "df[\"Age\"] = df[[\"Age\",\"Pclass\"]].apply(fill_age, axis=1)"
   ]
  },
  {
   "cell_type": "code",
   "execution_count": null,
   "id": "15b26dda",
   "metadata": {},
   "outputs": [],
   "source": [
    "df[\"Embarked\"] = df[\"Embarked\"].fillna(df[\"Embarked\"].mode()[0])"
   ]
  },
  {
   "cell_type": "markdown",
   "id": "42874075",
   "metadata": {},
   "source": [
    "# Encoding"
   ]
  },
  {
   "cell_type": "code",
   "execution_count": null,
   "id": "a5e2be53",
   "metadata": {},
   "outputs": [],
   "source": [
    "df = pd.get_dummies(df)\n",
    "df"
   ]
  },
  {
   "cell_type": "code",
   "execution_count": null,
   "id": "f10bc9ca",
   "metadata": {},
   "outputs": [],
   "source": [
    "for col, value in df.items():\n",
    "    plt.figure(figsize=(10,7))\n",
    "    sns.distplot(value, hist=False, color=\"g\", kde_kws={\"shade\": True})\n",
    "plt.tight_layout(pad=0.5, w_pad=0.7, h_pad=5.0)\n",
    "plt.show()"
   ]
  },
  {
   "cell_type": "markdown",
   "id": "bcad1c61",
   "metadata": {},
   "source": [
    "# Correlation using a Heatmap"
   ]
  },
  {
   "cell_type": "raw",
   "id": "18f3aba5",
   "metadata": {},
   "source": [
    "Positive correlation - A correlation of +1 indicates a perfect positive correlation, meaning that both variables move in the same direction together.\n",
    "\n",
    "Negative correlation - A correlation of –1 indicates a perfect negative correlation, meaning that as one variable goes up, the other goes down."
   ]
  },
  {
   "cell_type": "code",
   "execution_count": null,
   "id": "599e3886",
   "metadata": {},
   "outputs": [],
   "source": [
    "lower_triangle = np.tril(df.corr())\n",
    "plt.figure(figsize=(15,10))\n",
    "sns.heatmap(df.corr(), vmin=-1, vmax=1, annot=True, square=True, fmt='0.3f', \n",
    "            annot_kws={'size':10}, cmap=\"coolwarm\", mask=lower_triangle)\n",
    "plt.xticks(fontsize=12)\n",
    "plt.yticks(fontsize=12)\n",
    "plt.show()"
   ]
  },
  {
   "cell_type": "markdown",
   "id": "489803b1",
   "metadata": {},
   "source": [
    "# Splitting the dataset into 2 variables namely 'X' and 'Y' for feature and label"
   ]
  },
  {
   "cell_type": "code",
   "execution_count": null,
   "id": "3b99190c",
   "metadata": {},
   "outputs": [],
   "source": [
    "X = df.drop(\"Survived\", axis=1)\n",
    "Y = df[\"Survived\"]"
   ]
  },
  {
   "cell_type": "markdown",
   "id": "ef203e9f",
   "metadata": {},
   "source": [
    "# Feature scaling"
   ]
  },
  {
   "cell_type": "code",
   "execution_count": null,
   "id": "9e0b64c6",
   "metadata": {},
   "outputs": [],
   "source": [
    "scaler = StandardScaler()\n",
    "X = pd.DataFrame(scaler.fit_transform(X), columns=X.columns)\n",
    "X # Displaying all the features after applying scaling technique to avoid bias output"
   ]
  },
  {
   "cell_type": "code",
   "execution_count": null,
   "id": "29fc94fc",
   "metadata": {},
   "outputs": [],
   "source": [
    "X.describe()"
   ]
  },
  {
   "cell_type": "code",
   "execution_count": null,
   "id": "a6eb2ee6",
   "metadata": {},
   "outputs": [],
   "source": [
    "X = X.drop([\"SibSp\",\"Parch\",\"Embarked_C\",\"Embarked_Q\",\"Embarked_S\"], axis=1)"
   ]
  },
  {
   "cell_type": "code",
   "execution_count": null,
   "id": "70d3efb9",
   "metadata": {},
   "outputs": [],
   "source": [
    "X_train, X_test, Y_train, Y_test = train_test_split(X, Y, test_size=0.2, random_state=21)"
   ]
  },
  {
   "cell_type": "markdown",
   "id": "253abc11",
   "metadata": {},
   "source": [
    "# ML Model Function for Classification and Evaluation Metrics"
   ]
  },
  {
   "cell_type": "code",
   "execution_count": null,
   "id": "e2389f0a",
   "metadata": {},
   "outputs": [],
   "source": [
    "# Classification Model Function\n",
    "\n",
    "def classify(model, X, Y):\n",
    "    X_train, X_test, Y_train, Y_test = train_test_split(X, Y, test_size=0.2, random_state=21)\n",
    "    \n",
    "    # Training the model\n",
    "    model.fit(X_train, Y_train)\n",
    "    \n",
    "    # Predicting Y_test\n",
    "    pred = model.predict(X_test)\n",
    "    \n",
    "    # Accuracy Score\n",
    "    acc_score = (accuracy_score(Y_test, pred))*100\n",
    "    print(\"Accuracy Score:\", acc_score)\n",
    "    \n",
    "    # Classification Report\n",
    "    class_report = classification_report(Y_test, pred)\n",
    "    print(\"\\nClassification Report:\\n\", class_report)\n",
    "    \n",
    "    # Cross Validation Score\n",
    "    cv_score = (cross_val_score(model, X, Y, cv=5).mean())*100\n",
    "    print(\"Cross Validation Score:\", cv_score)\n",
    "    \n",
    "    # Result of accuracy minus cv scores\n",
    "    result = acc_score - cv_score\n",
    "    print(\"\\nAccuracy Score - Cross Validation Score is\", result)"
   ]
  },
  {
   "cell_type": "raw",
   "id": "1e756527",
   "metadata": {},
   "source": [
    "I have defined a class that will perform the train-test split, training of machine learning model, predicting the label value, getting the accuracy score, generating the classification report, getting the cross validation score and the result of difference between the accuracy score and cross validation score for any classification machine learning model that calls for this function.\n",
    "\n",
    "Note: I have not removed the outliers since the loss of those data gave a lower score on the classification model when compared to retaining the outliers. Also the usage of Z score and IQR methods gave a data loss of more than 15 percent which I could not afford on my current data set."
   ]
  },
  {
   "cell_type": "code",
   "execution_count": null,
   "id": "6b7b7c31",
   "metadata": {},
   "outputs": [],
   "source": [
    "# Logistic Regression\n",
    "\n",
    "model=LogisticRegression()\n",
    "classify(model, X, Y)"
   ]
  },
  {
   "cell_type": "code",
   "execution_count": null,
   "id": "2255844c",
   "metadata": {},
   "outputs": [],
   "source": [
    "# Support Vector Classifier\n",
    "\n",
    "model=SVC(C=1.0, kernel='rbf', gamma='auto', random_state=42)\n",
    "classify(model, X, Y)"
   ]
  },
  {
   "cell_type": "code",
   "execution_count": null,
   "id": "89d14247",
   "metadata": {},
   "outputs": [],
   "source": [
    "# Decision Tree Classifier\n",
    "\n",
    "model=DecisionTreeClassifier(random_state=21, max_depth=15)\n",
    "classify(model, X, Y)"
   ]
  },
  {
   "cell_type": "code",
   "execution_count": null,
   "id": "90c43218",
   "metadata": {},
   "outputs": [],
   "source": [
    "# Random Forest Classifier\n",
    "\n",
    "model=RandomForestClassifier(max_depth=15, random_state=111)\n",
    "classify(model, X, Y)"
   ]
  },
  {
   "cell_type": "code",
   "execution_count": null,
   "id": "86690754",
   "metadata": {},
   "outputs": [],
   "source": [
    "# K Neighbors Classifier\n",
    "\n",
    "model=KNeighborsClassifier(n_neighbors=15)\n",
    "classify(model, X, Y)"
   ]
  },
  {
   "cell_type": "code",
   "execution_count": null,
   "id": "e8f7079e",
   "metadata": {},
   "outputs": [],
   "source": [
    "# Extra Trees Classifier\n",
    "\n",
    "model=ExtraTreesClassifier()\n",
    "classify(model, X, Y)"
   ]
  },
  {
   "cell_type": "markdown",
   "id": "ae03a9e6",
   "metadata": {},
   "source": [
    "# Hyper parameter tuning on the best ML Model"
   ]
  },
  {
   "cell_type": "code",
   "execution_count": null,
   "id": "2636068c",
   "metadata": {},
   "outputs": [],
   "source": [
    "# Choosing Support Vector Classifier\n",
    "\n",
    "svc_param = {'kernel' : ['poly', 'sigmoid', 'rbf'],\n",
    "             'gamma' : ['scale', 'auto'],\n",
    "             'shrinking' : [True, False],\n",
    "             'random_state' : [21, 42, 104],\n",
    "             'probability' : [True, False],\n",
    "             'decision_function_shape' : ['ovo', 'ovr']\n",
    "            }"
   ]
  },
  {
   "cell_type": "code",
   "execution_count": null,
   "id": "76ef972f",
   "metadata": {},
   "outputs": [],
   "source": [
    "GSCV = GridSearchCV(SVC(), svc_param, cv=5)"
   ]
  },
  {
   "cell_type": "code",
   "execution_count": null,
   "id": "ffcceed3",
   "metadata": {},
   "outputs": [],
   "source": [
    "GSCV.fit(X_train,Y_train)"
   ]
  },
  {
   "cell_type": "code",
   "execution_count": null,
   "id": "cdfdd1f9",
   "metadata": {},
   "outputs": [],
   "source": [
    "GSCV.best_params_"
   ]
  },
  {
   "cell_type": "code",
   "execution_count": null,
   "id": "693b46b5",
   "metadata": {},
   "outputs": [],
   "source": [
    "Final_Model = SVC(decision_function_shape='ovo', gamma='scale', kernel='poly', probability=True, random_state=21,\n",
    "                 shrinking=True)\n",
    "Classifier = Final_Model.fit(X_train, Y_train)\n",
    "fmod_pred = Final_Model.predict(X_test)\n",
    "fmod_acc = (accuracy_score(Y_test, fmod_pred))*100\n",
    "print(\"Accuracy score for the Best Model is:\", fmod_acc)"
   ]
  },
  {
   "cell_type": "markdown",
   "id": "afadac51",
   "metadata": {},
   "source": [
    "# AUC ROC Curve"
   ]
  },
  {
   "cell_type": "code",
   "execution_count": null,
   "id": "f49fb7d1",
   "metadata": {},
   "outputs": [],
   "source": [
    "disp = metrics.plot_roc_curve(Final_Model, X_test, Y_test)\n",
    "disp.figure_.suptitle(\"ROC Curve\")\n",
    "plt.show()"
   ]
  },
  {
   "cell_type": "markdown",
   "id": "17679837",
   "metadata": {},
   "source": [
    "# Confusion Matrix"
   ]
  },
  {
   "cell_type": "code",
   "execution_count": null,
   "id": "ca772dd5",
   "metadata": {},
   "outputs": [],
   "source": [
    "class_names = df.columns\n",
    "metrics.plot_confusion_matrix(Classifier, X_test, Y_test, cmap='mako')\n",
    "plt.title('\\t Confusion Matrix for Decision Tree Classifier \\n')\n",
    "plt.show()"
   ]
  }
 ],
 "metadata": {
  "kernelspec": {
   "display_name": "Python 3 (ipykernel)",
   "language": "python",
   "name": "python3"
  },
  "language_info": {
   "codemirror_mode": {
    "name": "ipython",
    "version": 3
   },
   "file_extension": ".py",
   "mimetype": "text/x-python",
   "name": "python",
   "nbconvert_exporter": "python",
   "pygments_lexer": "ipython3",
   "version": "3.9.7"
  }
 },
 "nbformat": 4,
 "nbformat_minor": 5
}
